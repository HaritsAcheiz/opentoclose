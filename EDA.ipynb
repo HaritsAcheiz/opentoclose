{
 "cells": [
  {
   "cell_type": "code",
   "execution_count": null,
   "id": "33d7a3a1-716b-4505-9f8c-7f24e0098cf4",
   "metadata": {},
   "outputs": [],
   "source": [
    "import duckdb\n",
    "import pandas as pd\n",
    "import json"
   ]
  },
  {
   "cell_type": "markdown",
   "id": "c76a13ba-4bd8-4c56-a9b9-887bf6969937",
   "metadata": {},
   "source": [
    "# Support Function"
   ]
  },
  {
   "cell_type": "code",
   "execution_count": null,
   "id": "42860e3e-3de4-4afe-a123-999d68dd9f90",
   "metadata": {},
   "outputs": [],
   "source": [
    "def extract_field_values(field_values, key):\n",
    "    try:\n",
    "        values = json.loads(field_values)\n",
    "        for item in values:\n",
    "            if isinstance(item, dict) and item.get(\"key\") == key:\n",
    "                return item.get(\"value\")\n",
    "    except json.JSONDecodeError:\n",
    "        pass\n",
    "    return None"
   ]
  },
  {
   "cell_type": "code",
   "execution_count": null,
   "id": "7935f7b4-7ec2-45e4-aa7d-848faa2d85d5",
   "metadata": {},
   "outputs": [],
   "source": [
    "def extract_transaction_source(properties_file_path):\n",
    "    print('Extracting transaction data source...', end='')\n",
    "    conn = duckdb.connect(database=\":memory:\")\n",
    "    try:\n",
    "        query = f\"SELECT * FROM '{properties_file_path}'\"\n",
    "        df = conn.execute(query).fetchdf()\n",
    "        # df.to_csv('pure_datasources.csv', index=False)\n",
    "\n",
    "        transaction_schema = list()\n",
    "        with open('transaction_schema.csv') as file:\n",
    "            rows = csv.reader(file)\n",
    "            for row in rows:\n",
    "                transaction_schema.append(row[0])\n",
    "\n",
    "        transaction_df = pd.DataFrame()\n",
    "        for field in transaction_schema:\n",
    "            transaction_df[field] = df['field_values'].apply(lambda x: extract_field_values(x, field))\n",
    "\n",
    "        transaction_df.to_csv('transaction_source.csv', index=False)\n",
    "\n",
    "        print('Done')\n",
    "        return transaction_df\n",
    "\n",
    "    except Exception as e:\n",
    "        print(f\"Error processing data: {e}\")\n",
    "        return None\n",
    "\n",
    "    finally:\n",
    "        conn.close()"
   ]
  },
  {
   "cell_type": "code",
   "execution_count": null,
   "id": "f7e021d8-32dd-4cd8-8b0b-06cdb5cc1e8c",
   "metadata": {},
   "outputs": [],
   "source": [
    "def get_record(json_field):\n",
    "    record = dict()\n",
    "    record[json_field['label']] = json_field['value']\n",
    "\n",
    "    return record "
   ]
  },
  {
   "cell_type": "markdown",
   "id": "7e25783c-dc4d-4bed-b070-bd3e0764a61f",
   "metadata": {},
   "source": [
    "# Exploratory Data Analytics"
   ]
  },
  {
   "cell_type": "code",
   "execution_count": null,
   "id": "cb87216d-40dc-4927-a3ec-ebe7a0dc3ffd",
   "metadata": {},
   "outputs": [],
   "source": [
    "conn = duckdb.connect(database=\"listing.db\")"
   ]
  },
  {
   "cell_type": "code",
   "execution_count": null,
   "id": "7fb53126-63d9-4949-b28c-31eb66076743",
   "metadata": {},
   "outputs": [],
   "source": [
    "query = f\"SELECT * FROM 'all_properties.parquet'\""
   ]
  },
  {
   "cell_type": "code",
   "execution_count": null,
   "id": "2e46155e-0ecd-409d-b0b4-ce12f7025478",
   "metadata": {},
   "outputs": [],
   "source": [
    "df = conn.execute(query).fetchdf()"
   ]
  },
  {
   "cell_type": "code",
   "execution_count": null,
   "id": "b8b0aed3-ceda-4503-9778-63002ed65cf5",
   "metadata": {},
   "outputs": [],
   "source": [
    "df.info()"
   ]
  },
  {
   "cell_type": "code",
   "execution_count": null,
   "id": "f9fbf28b-a457-4587-8d21-7c3a4016d752",
   "metadata": {},
   "outputs": [],
   "source": [
    "df['json_field_values'] = df['field_values'].apply(json.loads)"
   ]
  },
  {
   "cell_type": "code",
   "execution_count": null,
   "id": "1e9446e4-d058-418b-9f60-47402e3a8f6f",
   "metadata": {},
   "outputs": [],
   "source": [
    "def get_field_record(json_field_value):\n",
    "    record = dict()\n",
    "    for i in range(len(json_field_value)):\n",
    "        record[json_field_value[i]['label']] = json_field_value[i]['value']\n",
    "\n",
    "    return record"
   ]
  },
  {
   "cell_type": "code",
   "execution_count": null,
   "id": "bee2d6c7-d446-45eb-82af-863e2aedd540",
   "metadata": {},
   "outputs": [],
   "source": [
    "df['records'] = df['json_field_values'].apply(get_field_record)"
   ]
  },
  {
   "cell_type": "code",
   "execution_count": null,
   "id": "ce6c2d5d-25cb-4acc-8aab-8ea55dfd0627",
   "metadata": {},
   "outputs": [],
   "source": [
    "records = df['records'].to_list()"
   ]
  },
  {
   "cell_type": "code",
   "execution_count": null,
   "id": "5641132f-21f1-4872-b61b-ba8bdfb972b3",
   "metadata": {},
   "outputs": [],
   "source": [
    "df = df[['id', 'records']]"
   ]
  },
  {
   "cell_type": "code",
   "execution_count": null,
   "id": "4ac37427-1136-4ef8-9039-b0194e6e3385",
   "metadata": {},
   "outputs": [],
   "source": [
    "df = pd.DataFrame.from_records(df['records'])"
   ]
  },
  {
   "cell_type": "code",
   "execution_count": null,
   "id": "afbf9554-5e8a-47d1-803c-9e50e890a102",
   "metadata": {},
   "outputs": [],
   "source": [
    "df.to_csv('transaction_source.csv', index=False)"
   ]
  }
 ],
 "metadata": {
  "kernelspec": {
   "display_name": "otc_env",
   "language": "python",
   "name": "otc_env"
  },
  "language_info": {
   "codemirror_mode": {
    "name": "ipython",
    "version": 3
   },
   "file_extension": ".py",
   "mimetype": "text/x-python",
   "name": "python",
   "nbconvert_exporter": "python",
   "pygments_lexer": "ipython3",
   "version": "3.11.2"
  }
 },
 "nbformat": 4,
 "nbformat_minor": 5
}
