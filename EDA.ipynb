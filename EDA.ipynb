{
 "cells": [
  {
   "cell_type": "code",
   "execution_count": null,
   "id": "33d7a3a1-716b-4505-9f8c-7f24e0098cf4",
   "metadata": {},
   "outputs": [],
   "source": [
    "import duckdb\n",
    "import pandas\n",
    "import json"
   ]
  },
  {
   "cell_type": "code",
   "execution_count": null,
   "id": "cb87216d-40dc-4927-a3ec-ebe7a0dc3ffd",
   "metadata": {},
   "outputs": [],
   "source": [
    "conn = duckdb.connect(database=\":memory:\")"
   ]
  },
  {
   "cell_type": "code",
   "execution_count": null,
   "id": "7fb53126-63d9-4949-b28c-31eb66076743",
   "metadata": {},
   "outputs": [],
   "source": [
    "query = f\"SELECT * FROM 'all_properties.parquet'\""
   ]
  },
  {
   "cell_type": "code",
   "execution_count": null,
   "id": "2e46155e-0ecd-409d-b0b4-ce12f7025478",
   "metadata": {},
   "outputs": [],
   "source": [
    "df = conn.execute(query).fetchdf()"
   ]
  },
  {
   "cell_type": "code",
   "execution_count": null,
   "id": "b8b0aed3-ceda-4503-9778-63002ed65cf5",
   "metadata": {},
   "outputs": [],
   "source": [
    "df.info()"
   ]
  },
  {
   "cell_type": "code",
   "execution_count": null,
   "id": "98d0ef8e-3d51-4ac8-a1d8-6275d0bd65eb",
   "metadata": {},
   "outputs": [],
   "source": [
    "json_field_values = json.loads(df.loc[1, 'field_values'])"
   ]
  },
  {
   "cell_type": "code",
   "execution_count": null,
   "id": "c4fcf2a8-e0b3-46a8-9393-710ac5af58e6",
   "metadata": {},
   "outputs": [],
   "source": [
    "for i in range(len(json_field_values)):\n",
    "    if 'provided' in json_field_values[i]['key']:\n",
    "        print(json_field_values[i])"
   ]
  },
  {
   "cell_type": "code",
   "execution_count": null,
   "id": "5211bf99-539a-4853-abbb-27279b99d6cf",
   "metadata": {},
   "outputs": [],
   "source": []
  }
 ],
 "metadata": {
  "kernelspec": {
   "display_name": "otc_env",
   "language": "python",
   "name": "otc_env"
  },
  "language_info": {
   "codemirror_mode": {
    "name": "ipython",
    "version": 3
   },
   "file_extension": ".py",
   "mimetype": "text/x-python",
   "name": "python",
   "nbconvert_exporter": "python",
   "pygments_lexer": "ipython3",
   "version": "3.11.2"
  }
 },
 "nbformat": 4,
 "nbformat_minor": 5
}
